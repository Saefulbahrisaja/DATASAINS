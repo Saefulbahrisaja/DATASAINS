{
 "cells": [
  {
   "cell_type": "code",
   "execution_count": 14,
   "id": "62c8663f",
   "metadata": {},
   "outputs": [
    {
     "name": "stdout",
     "output_type": "stream",
     "text": [
      "Collecting wordcloud\n",
      "  Using cached wordcloud-1.9.4-cp311-cp311-win_amd64.whl.metadata (3.5 kB)\n",
      "Requirement already satisfied: numpy>=1.6.1 in c:\\users\\saefu\\appdata\\local\\packages\\pythonsoftwarefoundation.python.3.11_qbz5n2kfra8p0\\localcache\\local-packages\\python311\\site-packages (from wordcloud) (1.26.4)\n",
      "Requirement already satisfied: pillow in c:\\users\\saefu\\appdata\\local\\packages\\pythonsoftwarefoundation.python.3.11_qbz5n2kfra8p0\\localcache\\local-packages\\python311\\site-packages (from wordcloud) (11.0.0)\n",
      "Requirement already satisfied: matplotlib in c:\\users\\saefu\\appdata\\local\\packages\\pythonsoftwarefoundation.python.3.11_qbz5n2kfra8p0\\localcache\\local-packages\\python311\\site-packages (from wordcloud) (3.9.2)\n",
      "Requirement already satisfied: contourpy>=1.0.1 in c:\\users\\saefu\\appdata\\local\\packages\\pythonsoftwarefoundation.python.3.11_qbz5n2kfra8p0\\localcache\\local-packages\\python311\\site-packages (from matplotlib->wordcloud) (1.3.1)\n",
      "Requirement already satisfied: cycler>=0.10 in c:\\users\\saefu\\appdata\\local\\packages\\pythonsoftwarefoundation.python.3.11_qbz5n2kfra8p0\\localcache\\local-packages\\python311\\site-packages (from matplotlib->wordcloud) (0.12.1)\n",
      "Requirement already satisfied: fonttools>=4.22.0 in c:\\users\\saefu\\appdata\\local\\packages\\pythonsoftwarefoundation.python.3.11_qbz5n2kfra8p0\\localcache\\local-packages\\python311\\site-packages (from matplotlib->wordcloud) (4.55.0)\n",
      "Requirement already satisfied: kiwisolver>=1.3.1 in c:\\users\\saefu\\appdata\\local\\packages\\pythonsoftwarefoundation.python.3.11_qbz5n2kfra8p0\\localcache\\local-packages\\python311\\site-packages (from matplotlib->wordcloud) (1.4.7)\n",
      "Requirement already satisfied: packaging>=20.0 in c:\\users\\saefu\\appdata\\local\\packages\\pythonsoftwarefoundation.python.3.11_qbz5n2kfra8p0\\localcache\\local-packages\\python311\\site-packages (from matplotlib->wordcloud) (24.0)\n",
      "Requirement already satisfied: pyparsing>=2.3.1 in c:\\users\\saefu\\appdata\\local\\packages\\pythonsoftwarefoundation.python.3.11_qbz5n2kfra8p0\\localcache\\local-packages\\python311\\site-packages (from matplotlib->wordcloud) (3.2.0)\n",
      "Requirement already satisfied: python-dateutil>=2.7 in c:\\users\\saefu\\appdata\\local\\packages\\pythonsoftwarefoundation.python.3.11_qbz5n2kfra8p0\\localcache\\local-packages\\python311\\site-packages (from matplotlib->wordcloud) (2.9.0.post0)\n",
      "Requirement already satisfied: six>=1.5 in c:\\users\\saefu\\appdata\\local\\packages\\pythonsoftwarefoundation.python.3.11_qbz5n2kfra8p0\\localcache\\local-packages\\python311\\site-packages (from python-dateutil>=2.7->matplotlib->wordcloud) (1.16.0)\n",
      "Using cached wordcloud-1.9.4-cp311-cp311-win_amd64.whl (299 kB)\n",
      "Installing collected packages: wordcloud\n",
      "Successfully installed wordcloud-1.9.4\n",
      "Note: you may need to restart the kernel to use updated packages.\n"
     ]
    },
    {
     "name": "stderr",
     "output_type": "stream",
     "text": [
      "\n",
      "[notice] A new release of pip is available: 24.0 -> 25.1.1\n",
      "[notice] To update, run: C:\\Users\\saefu\\AppData\\Local\\Microsoft\\WindowsApps\\PythonSoftwareFoundation.Python.3.11_qbz5n2kfra8p0\\python.exe -m pip install --upgrade pip\n"
     ]
    },
    {
     "name": "stdout",
     "output_type": "stream",
     "text": [
      "Collecting sastrawi\n",
      "  Using cached Sastrawi-1.0.1-py2.py3-none-any.whl.metadata (909 bytes)\n",
      "Using cached Sastrawi-1.0.1-py2.py3-none-any.whl (209 kB)\n",
      "Installing collected packages: sastrawi\n",
      "Successfully installed sastrawi-1.0.1\n",
      "Note: you may need to restart the kernel to use updated packages.\n"
     ]
    },
    {
     "name": "stderr",
     "output_type": "stream",
     "text": [
      "\n",
      "[notice] A new release of pip is available: 24.0 -> 25.1.1\n",
      "[notice] To update, run: C:\\Users\\saefu\\AppData\\Local\\Microsoft\\WindowsApps\\PythonSoftwareFoundation.Python.3.11_qbz5n2kfra8p0\\python.exe -m pip install --upgrade pip\n",
      "[nltk_data] Downloading package punkt to\n",
      "[nltk_data]     C:\\Users\\saefu\\AppData\\Roaming\\nltk_data...\n",
      "[nltk_data]   Package punkt is already up-to-date!\n",
      "[nltk_data] Downloading package stopwords to\n",
      "[nltk_data]     C:\\Users\\saefu\\AppData\\Roaming\\nltk_data...\n",
      "[nltk_data]   Package stopwords is already up-to-date!\n"
     ]
    },
    {
     "ename": "ValueError",
     "evalue": "invalid literal for int() with base 10: ''",
     "output_type": "error",
     "traceback": [
      "\u001b[1;31m---------------------------------------------------------------------------\u001b[0m",
      "\u001b[1;31mValueError\u001b[0m                                Traceback (most recent call last)",
      "Cell \u001b[1;32mIn[14], line 112\u001b[0m\n\u001b[0;32m    110\u001b[0m \u001b[38;5;66;03m# ==== Main Analysis ====\u001b[39;00m\n\u001b[0;32m    111\u001b[0m url \u001b[38;5;241m=\u001b[39m \u001b[38;5;28minput\u001b[39m(\u001b[38;5;124m\"\u001b[39m\u001b[38;5;124mEnter the YouTube video URL: \u001b[39m\u001b[38;5;124m\"\u001b[39m)\n\u001b[1;32m--> 112\u001b[0m limit \u001b[38;5;241m=\u001b[39m \u001b[38;5;28;43mint\u001b[39;49m\u001b[43m(\u001b[49m\u001b[38;5;28;43minput\u001b[39;49m\u001b[43m(\u001b[49m\u001b[38;5;124;43m\"\u001b[39;49m\u001b[38;5;124;43mEnter the number of comments to scrape (e.g., 300): \u001b[39;49m\u001b[38;5;124;43m\"\u001b[39;49m\u001b[43m)\u001b[49m\u001b[43m)\u001b[49m\n\u001b[0;32m    114\u001b[0m df \u001b[38;5;241m=\u001b[39m scrape_youtube_comments(url, limit)\n\u001b[0;32m    115\u001b[0m comment_col \u001b[38;5;241m=\u001b[39m \u001b[38;5;28mnext\u001b[39m((col \u001b[38;5;28;01mfor\u001b[39;00m col \u001b[38;5;129;01min\u001b[39;00m df\u001b[38;5;241m.\u001b[39mcolumns \u001b[38;5;28;01mif\u001b[39;00m \u001b[38;5;124m\"\u001b[39m\u001b[38;5;124mtext\u001b[39m\u001b[38;5;124m\"\u001b[39m \u001b[38;5;129;01min\u001b[39;00m col\u001b[38;5;241m.\u001b[39mlower() \u001b[38;5;129;01mor\u001b[39;00m \u001b[38;5;124m\"\u001b[39m\u001b[38;5;124mcomment\u001b[39m\u001b[38;5;124m\"\u001b[39m \u001b[38;5;129;01min\u001b[39;00m col\u001b[38;5;241m.\u001b[39mlower()), \u001b[38;5;28;01mNone\u001b[39;00m)\n",
      "\u001b[1;31mValueError\u001b[0m: invalid literal for int() with base 10: ''"
     ]
    }
   ],
   "source": [
    "import pandas as pd\n",
    "import os\n",
    "import re\n",
    "import nltk\n",
    "import subprocess\n",
    "import seaborn as sns\n",
    "from nltk.corpus import stopwords\n",
    "from sklearn.feature_extraction.text import CountVectorizer\n",
    "from sklearn.decomposition import LatentDirichletAllocation\n",
    "%pip install wordcloud\n",
    "%pip install sastrawi\n",
    "from wordcloud import WordCloud\n",
    "from Sastrawi.Stemmer.StemmerFactory import StemmerFactory\n",
    "\n",
    "import matplotlib.pyplot as plt\n",
    "\n",
    "\n",
    "nltk.download('punkt')\n",
    "nltk.download('stopwords')\n",
    "\n",
    "# ==== Load Stopwords ====\n",
    "def load_stopwords(file_path):\n",
    "    stopwords_list = set(stopwords.words(\"indonesian\"))\n",
    "    try:\n",
    "        with open(file_path, \"r\", encoding=\"utf-8\") as f:\n",
    "            additional_stopwords = {line.strip() for line in f.readlines()}\n",
    "        stopwords_list.update(additional_stopwords)\n",
    "    except Exception as e:\n",
    "        print(f\"Error loading stopword list from file: {e}\")\n",
    "    return stopwords_list\n",
    "\n",
    "stop_words = load_stopwords(\"stopwords.txt\")\n",
    "factory = StemmerFactory()\n",
    "stemmer = factory.create_stemmer()\n",
    "\n",
    "# ==== Scraper YouTube ====\n",
    "def scrape_youtube_comments(url, limit=300):\n",
    "    output_file = \"comments.csv\"\n",
    "    if os.path.exists(output_file):\n",
    "        os.remove(output_file)\n",
    "    cmd = [\n",
    "        \"youtube-comment-downloader\",\n",
    "        \"--url\", url,\n",
    "        \"--output\", output_file,\n",
    "        \"--limit\", str(limit)\n",
    "    ]\n",
    "    subprocess.run(cmd)\n",
    "    return pd.read_csv(output_file, on_bad_lines='skip', quoting=3, encoding='utf-8')\n",
    "\n",
    "# ==== Preprocessing ====\n",
    "def get_root_words(text):\n",
    "    text = str(text).lower()\n",
    "    text = re.sub(r\"http\\S+\", \"\", text)\n",
    "    text = re.sub(r\"[^a-zA-Z\\s]\", \"\", text)\n",
    "    words = text.split()\n",
    "    return [stemmer.stem(w) for w in words if w not in stop_words and len(w) > 1]\n",
    "\n",
    "def clean_text(text):\n",
    "    return \" \".join(get_root_words(text))\n",
    "\n",
    "# ==== Sentiment Analysis ====\n",
    "def load_lexicon(file_path):\n",
    "    try:\n",
    "        with open(file_path, \"r\", encoding=\"utf-8\") as f:\n",
    "            return set(line.strip() for line in f.readlines())\n",
    "    except Exception as e:\n",
    "        print(f\"Error loading lexicon from {file_path}: {e}\")\n",
    "        return set()\n",
    "\n",
    "positive_words = load_lexicon(\"positif.txt\")\n",
    "negative_words = load_lexicon(\"negatif.txt\")\n",
    "\n",
    "def get_sentiment(text):\n",
    "    words = text.split()\n",
    "    pos = sum(1 for w in words if w in positive_words)\n",
    "    neg = sum(1 for w in words if w in negative_words)\n",
    "    if pos > neg:\n",
    "        return \"Positif\"\n",
    "    elif neg > pos:\n",
    "        return \"Negatif\"\n",
    "    else:\n",
    "        return \"Netral\"\n",
    "\n",
    "# ==== Load Emotion Lexicon ====\n",
    "def load_emotion_lexicon(file_path):\n",
    "    emotions = {}\n",
    "    try:\n",
    "        with open(file_path, \"r\", encoding=\"utf-8\") as f:\n",
    "            for line in f:\n",
    "                if \":\" in line:\n",
    "                    emotion, words = line.strip().split(\":\")\n",
    "                    emotions[emotion.strip()] = set(w.strip() for w in words.split(\",\"))\n",
    "    except Exception as e:\n",
    "        print(f\"Error loading emotion lexicon from {file_path}: {e}\")\n",
    "    return emotions\n",
    "\n",
    "emotion_lexicon = load_emotion_lexicon(\"emosi.txt\")\n",
    "\n",
    "def get_emotion(text):\n",
    "    words = text.split()\n",
    "    scores = {e: 0 for e in emotion_lexicon}\n",
    "    for word in words:\n",
    "        for emotion, wordlist in emotion_lexicon.items():\n",
    "            if word in wordlist:\n",
    "                scores[emotion] += 1\n",
    "    if not any(scores.values()):\n",
    "        return \"Netral\"\n",
    "    return max(scores, key=scores.get)\n",
    "\n",
    "# ==== Main Analysis ====\n",
    "url = input(\"Enter the YouTube video URL: \")\n",
    "limit = int(input(\"Enter the number of comments to scrape (e.g., 300): \"))\n",
    "\n",
    "df = scrape_youtube_comments(url, limit)\n",
    "comment_col = next((col for col in df.columns if \"text\" in col.lower() or \"comment\" in col.lower()), None)\n",
    "\n",
    "if not comment_col:\n",
    "    print(\"Comment column not found.\")\n",
    "else:\n",
    "    df[\"root_words\"] = df[comment_col].astype(str).apply(get_root_words)\n",
    "    df[\"clean_text\"] = df[\"root_words\"].apply(lambda x: \" \".join(x))\n",
    "    df = df[df[\"clean_text\"].str.strip() != \"\"]\n",
    "    df[\"sentimen\"] = df[\"clean_text\"].apply(get_sentiment)\n",
    "    df[\"emosi\"] = df[\"clean_text\"].apply(get_emotion)\n",
    "\n",
    "    # ==== Sentiment Chart ====\n",
    "    counts = df[\"sentimen\"].value_counts()\n",
    "    plt.figure(figsize=(8, 6))\n",
    "    sns.barplot(x=counts.index, y=counts.values, palette=\"viridis\")\n",
    "    plt.title(\"Sentiment Distribution\")\n",
    "    plt.ylabel(\"Number of Comments\")\n",
    "    plt.xlabel(\"Sentiment\")\n",
    "    plt.show()\n",
    "\n",
    "    # ==== Emotion Chart ====\n",
    "    emotion_counts = df[\"emosi\"].value_counts()\n",
    "    plt.figure(figsize=(8, 6))\n",
    "    sns.barplot(x=emotion_counts.index, y=emotion_counts.values, palette=\"coolwarm\")\n",
    "    plt.title(\"Emotion Distribution\")\n",
    "    plt.ylabel(\"Number of Comments\")\n",
    "    plt.xlabel(\"Emotion\")\n",
    "    plt.show()\n",
    "\n",
    "    # ==== Topic Modeling ====\n",
    "    vectorizer = CountVectorizer(max_df=0.9, min_df=2)\n",
    "    X = vectorizer.fit_transform(df[\"clean_text\"])\n",
    "    lda = LatentDirichletAllocation(n_components=5, random_state=42)\n",
    "    lda.fit(X)\n",
    "\n",
    "    vocab = vectorizer.get_feature_names_out()\n",
    "    combined_word_freq = {}\n",
    "\n",
    "    for i, topic in enumerate(lda.components_):\n",
    "        top_idx = topic.argsort()[:-11:-1]\n",
    "        top_words = [(vocab[j], topic[j]) for j in top_idx]\n",
    "        print(f\"Topic {i+1}: {', '.join(w for w, _ in top_words)}\")\n",
    "        for w, score in top_words:\n",
    "            combined_word_freq[w] = combined_word_freq.get(w, 0) + score\n",
    "\n",
    "    # ==== Word Cloud ====\n",
    "    wc = WordCloud(width=800, height=500, background_color=\"white\").generate_from_frequencies(combined_word_freq)\n",
    "    plt.figure(figsize=(10, 6))\n",
    "    plt.imshow(wc, interpolation=\"bilinear\")\n",
    "    plt.axis(\"off\")\n",
    "    plt.title(\"Word Cloud\")\n",
    "    plt.show()"
   ]
  },
  {
   "cell_type": "code",
   "execution_count": null,
   "id": "e5f24a28",
   "metadata": {},
   "outputs": [],
   "source": [
    "!pip install youtube-comment-downloader\n",
    "!pip install pandas numpy matplotlib seaborn nltk\n",
    "!pip install bertopic sentence-transformers\n",
    "!pip install scikit-learn\n"
   ]
  },
  {
   "cell_type": "code",
   "execution_count": 1,
   "id": "ce882e25",
   "metadata": {},
   "outputs": [],
   "source": [
    "import subprocess\n",
    "import pandas as pd"
   ]
  },
  {
   "cell_type": "code",
   "execution_count": 12,
   "id": "9dee0ac9",
   "metadata": {},
   "outputs": [],
   "source": [
    "import sys\n",
    "\n",
    "def download_comments(video_url):\n",
    "    subprocess.run([\n",
    "        sys.executable, \"-m\", \"youtube_comment_downloader\",\n",
    "        \"--url\", video_url,\n",
    "        \"--output\", \"comments.csv\",\n",
    "        \"--limit\", \"500\"\n",
    "    ])\n",
    "\n",
    "# URL youtube \n",
    "download_comments(\"https://www.youtube.com/watch?v=SzXMacu80o8\")"
   ]
  },
  {
   "cell_type": "code",
   "execution_count": 3,
   "id": "cc3bb4a7",
   "metadata": {},
   "outputs": [
    {
     "name": "stdout",
     "output_type": "stream",
     "text": [
      "Index(['id', 'author', 'text', 'time'], dtype='object')\n"
     ]
    },
    {
     "name": "stderr",
     "output_type": "stream",
     "text": [
      "[nltk_data] Downloading package stopwords to\n",
      "[nltk_data]     C:\\Users\\saefu\\AppData\\Roaming\\nltk_data...\n",
      "[nltk_data]   Package stopwords is already up-to-date!\n"
     ]
    }
   ],
   "source": [
    "# 2. Load & Preprocessing\n",
    "import re\n",
    "import nltk\n",
    "from nltk.corpus import stopwords\n",
    "nltk.download('stopwords')\n",
    "\n",
    "df = pd.read_csv(\"comments.csv\", on_bad_lines=\"skip\", quoting=3, encoding=\"utf-8\")\n",
    "df = df.iloc[:, [0, 2, 3, 1]]  \n",
    "df.columns = ['id', 'author', 'text', 'time']\n",
    "df = df.dropna(subset=[\"text\"])  \n",
    "print(df.columns)\n",
    "stop_words = set(stopwords.words(\"indonesian\"))"
   ]
  },
  {
   "cell_type": "code",
   "execution_count": 4,
   "id": "1c46dbce",
   "metadata": {},
   "outputs": [],
   "source": [
    "def clean_text(text):\n",
    "    text = text.lower()\n",
    "    text = re.sub(r\"http\\S+|www.\\S+\", \"\", text)  # hapus URL\n",
    "    text = re.sub(r\"[^a-zA-Z\\s]\", \"\", text)  # hapus angka dan simbol\n",
    "    text = \" \".join(word for word in text.split() if word not in stop_words)\n",
    "    return text\n",
    "df[\"clean_text\"] = df[\"text\"].apply(clean_text)"
   ]
  },
  {
   "cell_type": "code",
   "execution_count": 5,
   "id": "6d47ba85",
   "metadata": {},
   "outputs": [],
   "source": [
    "# 3. Analisis Sentimen (pakai model ringan - TextBlob)\n",
    "#%pip install textblob\n",
    "from textblob import TextBlob\n",
    "\n",
    "def get_sentiment(text):\n",
    "    analysis = TextBlob(text)\n",
    "    score = analysis.sentiment.polarity\n",
    "    if score > 0:\n",
    "        return \"positive\"\n",
    "    elif score < 0:\n",
    "        return \"negative\"\n",
    "    else:\n",
    "        return \"neutral\"\n",
    "\n",
    "df[\"sentiment\"] = df[\"clean_text\"].apply(get_sentiment)"
   ]
  },
  {
   "cell_type": "code",
   "execution_count": 6,
   "id": "86280bc7",
   "metadata": {},
   "outputs": [
    {
     "name": "stderr",
     "output_type": "stream",
     "text": [
      "C:\\Users\\saefu\\AppData\\Local\\Packages\\PythonSoftwareFoundation.Python.3.11_qbz5n2kfra8p0\\LocalCache\\local-packages\\Python311\\site-packages\\tqdm\\auto.py:21: TqdmWarning: IProgress not found. Please update jupyter and ipywidgets. See https://ipywidgets.readthedocs.io/en/stable/user_install.html\n",
      "  from .autonotebook import tqdm as notebook_tqdm\n"
     ]
    }
   ],
   "source": [
    "# 4. Pemodelan Topik dengan BERTopic\n",
    "#%pip install bertopic\n",
    "from bertopic import BERTopic\n",
    "\n",
    "# Pastikan kamu install model bahasa Indonesia jika ingin hasil lebih relevan\n",
    "from sentence_transformers import SentenceTransformer\n",
    "model = SentenceTransformer(\"paraphrase-multilingual-MiniLM-L12-v2\")\n",
    "\n",
    "topic_model = BERTopic(embedding_model=model, language=\"multilingual\")\n",
    "topics, probs = topic_model.fit_transform(df[\"clean_text\"])\n",
    "\n",
    "df[\"topic\"] = topics"
   ]
  },
  {
   "cell_type": "code",
   "execution_count": 7,
   "id": "6372f830",
   "metadata": {},
   "outputs": [
    {
     "data": {
      "image/png": "[encoded data removed]",
      "text/plain": [
       "<Figure size 640x480 with 1 Axes>"
      ]
     },
     "metadata": {},
     "output_type": "display_data"
    }
   ],
   "source": [
    "# 5. Visualisasi dasar\n",
    "import matplotlib.pyplot as plt\n",
    "import seaborn as sns\n",
    "\n",
    "# Sentimen distribution\n",
    "sns.countplot(data=df, x=\"sentiment\")\n",
    "plt.title(\"Distribusi Sentimen Komentar YouTube\")\n",
    "plt.show()"
   ]
  },
  {
   "cell_type": "code",
   "execution_count": 10,
   "id": "e208afc5",
   "metadata": {},
   "outputs": [
    {
     "name": "stdout",
     "output_type": "stream",
     "text": [
      "\n",
      "Topik Paling Umum:\n",
      "   topic  count\n",
      "0     -1    132\n",
      "1      0     95\n",
      "2      1     55\n",
      "3      2     30\n",
      "4      3     27\n",
      "\n",
      "Topik & Kata Kunci:\n",
      "   Topic  Count                                               Name  \\\n",
      "0     -1    132          -1_author_xiuyz_carlorockrm_nanyfidyawati   \n",
      "1      0     95    0_author_donigaming_arifsantoso_ridasoulfounded   \n",
      "2      1     55  1_author_candrayuliantozi_adamyusufadamsengine...   \n",
      "3      2     30    2_author_sukamto_gibranganjarvy_nailairumahajar   \n",
      "4      3     27               3_indriar_exxoman_debyprastio_author   \n",
      "5      4     19              4_eliogkk_author_agunsapese_agustsiam   \n",
      "\n",
      "                                      Representation  \\\n",
      "0  [author, xiuyz, carlorockrm, nanyfidyawati, mr...   \n",
      "1  [author, donigaming, arifsantoso, ridasoulfoun...   \n",
      "2  [author, candrayuliantozi, adamyusufadamsengin...   \n",
      "3  [author, sukamto, gibranganjarvy, nailairumaha...   \n",
      "4  [indriar, exxoman, debyprastio, author, intiwi...   \n",
      "5  [eliogkk, author, agunsapese, agustsiam, irwan...   \n",
      "\n",
      "                                 Representative_Docs  \n",
      "0  [author nanyfidyawati, author carlorockrm, aut...  \n",
      "1  [author donigaming, author donigaming, author ...  \n",
      "2  [author adiktohutabalian, author candrayuliant...  \n",
      "3  [author gibranganjarvy, author sukamto, author...  \n",
      "4   [author indriar, author indriar, author indriar]  \n",
      "5   [author alirjbp, author eliogkk, author eliogkk]  \n"
     ]
    },
    {
     "name": "stderr",
     "output_type": "stream",
     "text": [
      "\n",
      "[notice] A new release of pip is available: 24.0 -> 25.1.1\n",
      "[notice] To update, run: C:\\Users\\saefu\\AppData\\Local\\Microsoft\\WindowsApps\\PythonSoftwareFoundation.Python.3.11_qbz5n2kfra8p0\\python.exe -m pip install --upgrade pip\n"
     ]
    },
    {
     "name": "stdout",
     "output_type": "stream",
     "text": [
      "Requirement already satisfied: nbformat in c:\\users\\saefu\\appdata\\local\\packages\\pythonsoftwarefoundation.python.3.11_qbz5n2kfra8p0\\localcache\\local-packages\\python311\\site-packages (5.10.4)\n",
      "Requirement already satisfied: fastjsonschema>=2.15 in c:\\users\\saefu\\appdata\\local\\packages\\pythonsoftwarefoundation.python.3.11_qbz5n2kfra8p0\\localcache\\local-packages\\python311\\site-packages (from nbformat) (2.21.1)\n",
      "Requirement already satisfied: jsonschema>=2.6 in c:\\users\\saefu\\appdata\\local\\packages\\pythonsoftwarefoundation.python.3.11_qbz5n2kfra8p0\\localcache\\local-packages\\python311\\site-packages (from nbformat) (4.23.0)\n",
      "Requirement already satisfied: jupyter-core!=5.0.*,>=4.12 in c:\\users\\saefu\\appdata\\local\\packages\\pythonsoftwarefoundation.python.3.11_qbz5n2kfra8p0\\localcache\\local-packages\\python311\\site-packages (from nbformat) (5.7.2)\n",
      "Requirement already satisfied: traitlets>=5.1 in c:\\users\\saefu\\appdata\\local\\packages\\pythonsoftwarefoundation.python.3.11_qbz5n2kfra8p0\\localcache\\local-packages\\python311\\site-packages (from nbformat) (5.14.3)\n",
      "Requirement already satisfied: attrs>=22.2.0 in c:\\users\\saefu\\appdata\\local\\packages\\pythonsoftwarefoundation.python.3.11_qbz5n2kfra8p0\\localcache\\local-packages\\python311\\site-packages (from jsonschema>=2.6->nbformat) (24.2.0)\n",
      "Requirement already satisfied: jsonschema-specifications>=2023.03.6 in c:\\users\\saefu\\appdata\\local\\packages\\pythonsoftwarefoundation.python.3.11_qbz5n2kfra8p0\\localcache\\local-packages\\python311\\site-packages (from jsonschema>=2.6->nbformat) (2024.10.1)\n",
      "Requirement already satisfied: referencing>=0.28.4 in c:\\users\\saefu\\appdata\\local\\packages\\pythonsoftwarefoundation.python.3.11_qbz5n2kfra8p0\\localcache\\local-packages\\python311\\site-packages (from jsonschema>=2.6->nbformat) (0.35.1)\n",
      "Requirement already satisfied: rpds-py>=0.7.1 in c:\\users\\saefu\\appdata\\local\\packages\\pythonsoftwarefoundation.python.3.11_qbz5n2kfra8p0\\localcache\\local-packages\\python311\\site-packages (from jsonschema>=2.6->nbformat) (0.21.0)\n",
      "Requirement already satisfied: platformdirs>=2.5 in c:\\users\\saefu\\appdata\\local\\packages\\pythonsoftwarefoundation.python.3.11_qbz5n2kfra8p0\\localcache\\local-packages\\python311\\site-packages (from jupyter-core!=5.0.*,>=4.12->nbformat) (4.2.2)\n",
      "Requirement already satisfied: pywin32>=300 in c:\\users\\saefu\\appdata\\local\\packages\\pythonsoftwarefoundation.python.3.11_qbz5n2kfra8p0\\localcache\\local-packages\\python311\\site-packages (from jupyter-core!=5.0.*,>=4.12->nbformat) (306)\n",
      "Note: you may need to restart the kernel to use updated packages.\n"
     ]
    },
    {
     "ename": "ValueError",
     "evalue": "Mime type rendering requires nbformat>=4.2.0 but it is not installed",
     "output_type": "error",
     "traceback": [
      "\u001b[1;31m---------------------------------------------------------------------------\u001b[0m",
      "\u001b[1;31mValueError\u001b[0m                                Traceback (most recent call last)",
      "Cell \u001b[1;32mIn[10], line 22\u001b[0m\n\u001b[0;32m     19\u001b[0m \u001b[38;5;28;01mimport\u001b[39;00m \u001b[38;5;21;01mnbformat\u001b[39;00m\n\u001b[0;32m     21\u001b[0m fig \u001b[38;5;241m=\u001b[39m topic_model\u001b[38;5;241m.\u001b[39mvisualize_topics(top_n_topics\u001b[38;5;241m=\u001b[39m\u001b[38;5;241m5\u001b[39m)\n\u001b[1;32m---> 22\u001b[0m \u001b[43mfig\u001b[49m\u001b[38;5;241;43m.\u001b[39;49m\u001b[43mshow\u001b[49m\u001b[43m(\u001b[49m\u001b[43m)\u001b[49m\n",
      "File \u001b[1;32m~\\AppData\\Local\\Packages\\PythonSoftwareFoundation.Python.3.11_qbz5n2kfra8p0\\LocalCache\\local-packages\\Python311\\site-packages\\plotly\\basedatatypes.py:3414\u001b[0m, in \u001b[0;36mBaseFigure.show\u001b[1;34m(self, *args, **kwargs)\u001b[0m\n\u001b[0;32m   3381\u001b[0m \u001b[38;5;250m\u001b[39m\u001b[38;5;124;03m\"\"\"\u001b[39;00m\n\u001b[0;32m   3382\u001b[0m \u001b[38;5;124;03mShow a figure using either the default renderer(s) or the renderer(s)\u001b[39;00m\n\u001b[0;32m   3383\u001b[0m \u001b[38;5;124;03mspecified by the renderer argument\u001b[39;00m\n\u001b[1;32m   (...)\u001b[0m\n\u001b[0;32m   3410\u001b[0m \u001b[38;5;124;03mNone\u001b[39;00m\n\u001b[0;32m   3411\u001b[0m \u001b[38;5;124;03m\"\"\"\u001b[39;00m\n\u001b[0;32m   3412\u001b[0m \u001b[38;5;28;01mimport\u001b[39;00m \u001b[38;5;21;01mplotly\u001b[39;00m\u001b[38;5;21;01m.\u001b[39;00m\u001b[38;5;21;01mio\u001b[39;00m \u001b[38;5;28;01mas\u001b[39;00m \u001b[38;5;21;01mpio\u001b[39;00m\n\u001b[1;32m-> 3414\u001b[0m \u001b[38;5;28;01mreturn\u001b[39;00m \u001b[43mpio\u001b[49m\u001b[38;5;241;43m.\u001b[39;49m\u001b[43mshow\u001b[49m\u001b[43m(\u001b[49m\u001b[38;5;28;43mself\u001b[39;49m\u001b[43m,\u001b[49m\u001b[43m \u001b[49m\u001b[38;5;241;43m*\u001b[39;49m\u001b[43margs\u001b[49m\u001b[43m,\u001b[49m\u001b[43m \u001b[49m\u001b[38;5;241;43m*\u001b[39;49m\u001b[38;5;241;43m*\u001b[39;49m\u001b[43mkwargs\u001b[49m\u001b[43m)\u001b[49m\n",
      "File \u001b[1;32m~\\AppData\\Local\\Packages\\PythonSoftwareFoundation.Python.3.11_qbz5n2kfra8p0\\LocalCache\\local-packages\\Python311\\site-packages\\plotly\\io\\_renderers.py:425\u001b[0m, in \u001b[0;36mshow\u001b[1;34m(fig, renderer, validate, **kwargs)\u001b[0m\n\u001b[0;32m    420\u001b[0m     \u001b[38;5;28;01mraise\u001b[39;00m \u001b[38;5;167;01mValueError\u001b[39;00m(\n\u001b[0;32m    421\u001b[0m         \u001b[38;5;124m\"\u001b[39m\u001b[38;5;124mMime type rendering requires ipython but it is not installed\u001b[39m\u001b[38;5;124m\"\u001b[39m\n\u001b[0;32m    422\u001b[0m     )\n\u001b[0;32m    424\u001b[0m \u001b[38;5;28;01mif\u001b[39;00m \u001b[38;5;129;01mnot\u001b[39;00m nbformat \u001b[38;5;129;01mor\u001b[39;00m Version(nbformat\u001b[38;5;241m.\u001b[39m__version__) \u001b[38;5;241m<\u001b[39m Version(\u001b[38;5;124m\"\u001b[39m\u001b[38;5;124m4.2.0\u001b[39m\u001b[38;5;124m\"\u001b[39m):\n\u001b[1;32m--> 425\u001b[0m     \u001b[38;5;28;01mraise\u001b[39;00m \u001b[38;5;167;01mValueError\u001b[39;00m(\n\u001b[0;32m    426\u001b[0m         \u001b[38;5;124m\"\u001b[39m\u001b[38;5;124mMime type rendering requires nbformat>=4.2.0 but it is not installed\u001b[39m\u001b[38;5;124m\"\u001b[39m\n\u001b[0;32m    427\u001b[0m     )\n\u001b[0;32m    429\u001b[0m display_jupyter_version_warnings()\n\u001b[0;32m    431\u001b[0m ipython_display\u001b[38;5;241m.\u001b[39mdisplay(bundle, raw\u001b[38;5;241m=\u001b[39m\u001b[38;5;28;01mTrue\u001b[39;00m)\n",
      "\u001b[1;31mValueError\u001b[0m: Mime type rendering requires nbformat>=4.2.0 but it is not installed"
     ]
    }
   ],
   "source": [
    "# Topik paling umum\n",
    "df_topic_count = df['topic'].value_counts().reset_index()\n",
    "df_topic_count.columns = ['topic', 'count']\n",
    "print(\"\\nTopik Paling Umum:\")\n",
    "print(df_topic_count.head())\n",
    "\n",
    "# Tampilkan kata kunci dari tiap topik\n",
    "topic_info = topic_model.get_topic_info()\n",
    "print(\"\\nTopik & Kata Kunci:\")\n",
    "print(topic_info)\n",
    "\n",
    "# Visualisasi interaktif topik\n",
    "#topic_model.visualize_topics().show()\n",
    "\n",
    "# Ensure nbformat is installed and updated\n",
    "%pip install --upgrade nbformat\n",
    "\n",
    "# Import nbformat to ensure compatibility\n",
    "import nbformat\n",
    "\n",
    "fig = topic_model.visualize_topics(top_n_topics=5)\n",
    "fig.show()"
   ]
  }
 ],
 "metadata": {
  "kernelspec": {
   "display_name": "Python 3",
   "language": "python",
   "name": "python3"
  },
  "language_info": {
   "codemirror_mode": {
    "name": "ipython",
    "version": 3
   },
   "file_extension": ".py",
   "mimetype": "text/x-python",
   "name": "python",
   "nbconvert_exporter": "python",
   "pygments_lexer": "ipython3",
   "version": "3.11.9"
  }
 },
 "nbformat": 4,
 "nbformat_minor": 5
}
